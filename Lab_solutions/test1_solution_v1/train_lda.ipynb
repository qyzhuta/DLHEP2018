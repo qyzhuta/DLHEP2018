{
 "cells": [
  {
   "cell_type": "code",
   "execution_count": 9,
   "metadata": {},
   "outputs": [],
   "source": [
    "import pandas as pd\n",
    "%matplotlib inline\n",
    "import matplotlib.pyplot as plt\n",
    "import numpy as np\n",
    "\n",
    "import sklearn.discriminant_analysis as DA\n",
    "from sklearn.linear_model import SGDClassifier\n",
    "import sklearn.cross_validation as cv\n",
    "from sklearn.metrics import roc_curve, auc\n",
    "\n",
    "\n",
    "def AMS(s, b):\n",
    "    '''\n",
    "    Approximate median significance:\n",
    "        s = true positive rate\n",
    "        b = false positive rate\n",
    "    '''\n",
    "    assert s >= 0\n",
    "    assert b >= 0\n",
    "    bReg = 10.\n",
    "    return np.sqrt(2.0 * ((s + b + bReg) * np.log(1 + s / (b + bReg)) - s))\n",
    "\n",
    "\n",
    "def get_rates(prediction, solution, weights):\n",
    "    '''\n",
    "    Returns the true and false positive rates.\n",
    "    This assumes that:\n",
    "        label 's' corresponds to 1 (int)\n",
    "        label 'b' corresponds to 0 (int)\n",
    "    '''\n",
    "    assert prediction.size == solution.size\n",
    "    assert prediction.size == weights.size\n",
    "\n",
    "    # Compute sum of weights for true and false positives\n",
    "    truePos  = sum(weights[(solution == 1) * (prediction == 1)])\n",
    "    falsePos = sum(weights[(solution == 0) * (prediction == 1)])\n",
    "\n",
    "    return truePos, falsePos\n",
    "\n",
    "\n",
    "fname='X_y'\n",
    "df=pd.read_csv(fname)\n",
    "\n",
    "df.replace(-999.0,0.)\n",
    "cols = df.columns.tolist()\n",
    "X=df[cols[:-2]].values\n",
    "labels = df['Label'].values\n",
    "weights = df['Weight'].values"
   ]
  },
  {
   "cell_type": "code",
   "execution_count": 7,
   "metadata": {
    "collapsed": true
   },
   "outputs": [],
   "source": [
    "def train_lda_classfier(X,y,weight,nfolds):\n",
    "    kf = cv.KFold(labels.size, n_folds=nfolds)\n",
    "    \n",
    "    npoints  = 26\n",
    "    all_AMS = {}\n",
    "    for curr in range(npoints):\n",
    "        all_AMS[curr] = []\n",
    "    cutoffs  = np.linspace(0.05, 0.30, npoints)\n",
    "    \n",
    "    for train_indices, test_indices in kf:\n",
    "        X_train, X_test = X[train_indices], X[test_indices]\n",
    "        y_train, y_test = y[train_indices], y[test_indices]\n",
    "        w_train, w_test = weight[train_indices], weight[test_indices]\n",
    "        \n",
    "        w_train *= (sum(weight) / sum(w_train))\n",
    "        w_test  *= (sum(weight) / sum(w_test))\n",
    "        \n",
    "        Clf=DA.LinearDiscriminantAnalysis()\n",
    "        \n",
    "        Clf.fit(X_train,y_train)\n",
    "        \n",
    "        y_out = Clf.predict(X_test)\n",
    "        res  = [(i, y_out[i]) for i in xrange(len(y_out))]\n",
    "        \n",
    "        rorder = {}\n",
    "        for k, v in sorted(res, key = lambda x:-x[1]):\n",
    "            rorder[k] = len(rorder) + 1\n",
    "        \n",
    "        best_AMS = -1.\n",
    "        best_thres = 0.0\n",
    "        \n",
    "        for curr, threshold_ratio in enumerate(cutoffs):\n",
    "            y_pred = np.zeros(len(y_out))\n",
    "            ntop = int(threshold_ratio * len(rorder))\n",
    "            for k, v in res:\n",
    "                if rorder[k] <= ntop:\n",
    "                    y_pred[k] = 1\n",
    "\n",
    "            truePos, falsePos = get_rates(y_pred, y_test, w_test)\n",
    "            this_AMS = AMS(truePos, falsePos)\n",
    "            all_AMS[curr].append(this_AMS)\n",
    "            if this_AMS > best_AMS:\n",
    "                best_AMS = this_AMS\n",
    "                best_thres = threshold_ratio\n",
    "        print \"Best AMS = %f at %.2f\"%(best_AMS,best_thres)\n",
    "    print \"------------------------------------------------------\"\n",
    "    \n",
    "        \n",
    "        \n",
    "    fpr1, tpr1, _ = roc_curve(y_test, Clf.decision_function(X_test))\n",
    "    roc_auc1 = auc(fpr1, tpr1)\n",
    "        \n",
    "    plt.plot(fpr1,tpr1,color='r',label='ROC curve (area = %0.2f)' % roc_auc1)\n",
    "    plt.legend(loc=\"lower right\")\n",
    "    plt.xlabel('False Positive Rate')\n",
    "    plt.ylabel('True Positive Rate')\n",
    "\n",
    "    plt.show()\n",
    "    \n",
    "    from sklearn.externals import joblib    \n",
    "    joblib.dump(Clf, 'lda.pkl')"
   ]
  },
  {
   "cell_type": "code",
   "execution_count": 8,
   "metadata": {},
   "outputs": [
    {
     "name": "stdout",
     "output_type": "stream",
     "text": [
      "Best AMS = 1.432344 at 0.23\n",
      "Best AMS = 1.406258 at 0.23\n",
      "Best AMS = 1.347808 at 0.23\n",
      "Best AMS = 1.426686 at 0.23\n",
      "Best AMS = 1.475496 at 0.24\n",
      "Best AMS = 1.412428 at 0.23\n",
      "Best AMS = 1.396298 at 0.23\n",
      "Best AMS = 1.436668 at 0.24\n",
      "Best AMS = 1.422753 at 0.23\n",
      "Best AMS = 1.453276 at 0.24\n",
      "------------------------------------------------------\n"
     ]
    },
    {
     "data": {
      "image/png": "[encoded data removed]",
      "text/plain": [
       "<matplotlib.figure.Figure at 0x7f28b864b210>"
      ]
     },
     "metadata": {},
     "output_type": "display_data"
    }
   ],
   "source": [
    "train_lda_classfier(X,labels,weights,10)"
   ]
  },
  {
   "cell_type": "code",
   "execution_count": 10,
   "metadata": {
    "collapsed": true
   },
   "outputs": [],
   "source": [
    "def train_sgdc_classfier(X,y,weight,nfolds):\n",
    "    kf = cv.KFold(labels.size, n_folds=nfolds)\n",
    "    \n",
    "    npoints  = 26\n",
    "    all_AMS = {}\n",
    "    for curr in range(npoints):\n",
    "        all_AMS[curr] = []\n",
    "    cutoffs  = np.linspace(0.05, 0.30, npoints)\n",
    "    \n",
    "    for train_indices, test_indices in kf:\n",
    "        X_train, X_test = X[train_indices], X[test_indices]\n",
    "        y_train, y_test = y[train_indices], y[test_indices]\n",
    "        w_train, w_test = weight[train_indices], weight[test_indices]\n",
    "        \n",
    "        w_train *= (sum(weight) / sum(w_train))\n",
    "        w_test  *= (sum(weight) / sum(w_test))\n",
    "        \n",
    "        Clf=SGDClassifier()\n",
    "        \n",
    "        Clf.fit(X_train,y_train)\n",
    "        \n",
    "        y_out = Clf.predict(X_test)\n",
    "        res  = [(i, y_out[i]) for i in xrange(len(y_out))]\n",
    "        \n",
    "        rorder = {}\n",
    "        for k, v in sorted(res, key = lambda x:-x[1]):\n",
    "            rorder[k] = len(rorder) + 1\n",
    "        \n",
    "        best_AMS = -1.\n",
    "        best_thres = 0.0\n",
    "        \n",
    "        for curr, threshold_ratio in enumerate(cutoffs):\n",
    "            y_pred = np.zeros(len(y_out))\n",
    "            ntop = int(threshold_ratio * len(rorder))\n",
    "            for k, v in res:\n",
    "                if rorder[k] <= ntop:\n",
    "                    y_pred[k] = 1\n",
    "\n",
    "            truePos, falsePos = get_rates(y_pred, y_test, w_test)\n",
    "            this_AMS = AMS(truePos, falsePos)\n",
    "            all_AMS[curr].append(this_AMS)\n",
    "            if this_AMS > best_AMS:\n",
    "                best_AMS = this_AMS\n",
    "                best_thres = threshold_ratio\n",
    "        print \"Best AMS = %f at %.2f\"%(best_AMS,best_thres)\n",
    "    print \"------------------------------------------------------\"\n",
    "    \n",
    "        \n",
    "        \n",
    "    fpr1, tpr1, _ = roc_curve(y_test, Clf.decision_function(X_test))\n",
    "    roc_auc1 = auc(fpr1, tpr1)\n",
    "        \n",
    "    plt.plot(fpr1,tpr1,color='r',label='ROC curve (area = %0.2f)' % roc_auc1)\n",
    "    plt.legend(loc=\"lower right\")\n",
    "    plt.xlabel('False Positive Rate')\n",
    "    plt.ylabel('True Positive Rate')\n",
    "\n",
    "    plt.show()\n",
    "    \n",
    "    from sklearn.externals import joblib    \n",
    "    joblib.dump(Clf, 'sgdc.pkl')"
   ]
  },
  {
   "cell_type": "code",
   "execution_count": 11,
   "metadata": {},
   "outputs": [
    {
     "name": "stdout",
     "output_type": "stream",
     "text": [
      "Best AMS = 0.772884 at 0.15\n",
      "Best AMS = 0.657988 at 0.14\n",
      "Best AMS = 0.820122 at 0.18\n",
      "Best AMS = 0.816708 at 0.30\n",
      "Best AMS = 0.603516 at 0.30\n",
      "Best AMS = 0.857699 at 0.15\n",
      "Best AMS = 0.920351 at 0.30\n",
      "Best AMS = 0.631650 at 0.08\n",
      "Best AMS = 0.638489 at 0.07\n",
      "Best AMS = 0.751179 at 0.30\n",
      "------------------------------------------------------\n"
     ]
    },
    {
     "data": {
      "image/png": "[encoded data removed]",
      "text/plain": [
       "<matplotlib.figure.Figure at 0x7f28b85fcc10>"
      ]
     },
     "metadata": {},
     "output_type": "display_data"
    }
   ],
   "source": [
    "train_sgdc_classfier(X,labels,weights,10)"
   ]
  },
  {
   "cell_type": "code",
   "execution_count": null,
   "metadata": {
    "collapsed": true
   },
   "outputs": [],
   "source": []
  }
 ],
 "metadata": {
  "kernelspec": {
   "display_name": "Python 2",
   "language": "python",
   "name": "python2"
  },
  "language_info": {
   "codemirror_mode": {
    "name": "ipython",
    "version": 2
   },
   "file_extension": ".py",
   "mimetype": "text/x-python",
   "name": "python",
   "nbconvert_exporter": "python",
   "pygments_lexer": "ipython2",
   "version": "2.7.12"
  }
 },
 "nbformat": 4,
 "nbformat_minor": 2
}
