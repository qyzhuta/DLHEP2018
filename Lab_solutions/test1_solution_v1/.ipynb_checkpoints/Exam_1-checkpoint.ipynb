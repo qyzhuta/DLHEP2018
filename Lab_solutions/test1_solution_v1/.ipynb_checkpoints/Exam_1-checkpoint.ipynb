{
 "cells": [
  {
   "cell_type": "markdown",
   "metadata": {},
   "source": [
    "# Exam 1- Higgs ML Challenge\n",
    "\n",
    "The HiggsML challenge was organized by ATLAS colleagues and ran on Kaggle's platform. The challenge provided a training and test set of Higgs and background events in CSV format. Using this data, participants were tasked with creating a classifier, which they submitted to Kaggle. Kaggle evaluated the classifier against another test set. At the end of the competition, the best performing classifiers were awarded a cash prize.\n",
    "\n",
    "We will run a mini-competition, using the same data, as your first exam. Note that you will not need a Kaggle account, but may wish to get one to get more details.\n",
    "\n",
    "The challenge is described in https://higgsml.lal.in2p3.fr\n",
    "\n",
    "The Kaggle site is https://www.kaggle.com/c/higgs-boson\n",
    "\n",
    "Detail description of the data and challenge: https://higgsml.lal.in2p3.fr/files/2014/04/documentation_v1.8.pdf\n",
    "\n",
    "You are welcome to use Scikit or any other package you like.\n",
    "\n",
    "Please separate different steps into different Jupyter Notebooks. For example:\n",
    "\n",
    "    - Convert CSV to h5 format.\n",
    "    - Load data and plot/compare variables.\n",
    "    - Setup and Train the Classifier. Save the trained classifier (see http://scikit-learn.org/stable/modules/model_persistence.html )\n",
    "    - Evaluate and compare different classifiers using ROC curves and metric defined by competition.\n",
    "\n",
    "A copy of the data CSV files are on the cluster at: /data/afarbin/DLClass/HiggsML\n"
   ]
  },
  {
   "cell_type": "code",
   "execution_count": 1,
   "metadata": {},
   "outputs": [
    {
     "name": "stdout",
     "output_type": "stream",
     "text": [
      "Exam 1.ipynb  test.csv\ttraining.csv\r\n"
     ]
    }
   ],
   "source": [
    "!ls /data/afarbin/DLClass/HiggsML"
   ]
  },
  {
   "cell_type": "markdown",
   "metadata": {},
   "source": [
    "Note that the first line of the file contains the variable names:"
   ]
  },
  {
   "cell_type": "code",
   "execution_count": null,
   "metadata": {
    "collapsed": true
   },
   "outputs": [],
   "source": [
    "!head -2 /data/afarbin/DLClass/HiggsML/training.csv"
   ]
  },
  {
   "cell_type": "markdown",
   "metadata": {},
   "source": [
    "Some basic shell commands may help you. For example here is the number of lines (so N Events + variable names):"
   ]
  },
  {
   "cell_type": "code",
   "execution_count": null,
   "metadata": {
    "collapsed": true
   },
   "outputs": [],
   "source": [
    "!wc -l /data/afarbin/DLClass/HiggsML/training.csv"
   ]
  },
  {
   "cell_type": "markdown",
   "metadata": {},
   "source": [
    "You can strip off the first line into a new file in your Exam directory:"
   ]
  },
  {
   "cell_type": "code",
   "execution_count": null,
   "metadata": {
    "collapsed": true
   },
   "outputs": [],
   "source": [
    "!tail -25000 /data/afarbin/DLClass/HiggsML/training.csv > mytraining.csv"
   ]
  },
  {
   "cell_type": "code",
   "execution_count": null,
   "metadata": {
    "collapsed": true
   },
   "outputs": [],
   "source": [
    "!head -2 mytraining.csv"
   ]
  }
 ],
 "metadata": {
  "kernelspec": {
   "display_name": "Python 2",
   "language": "python",
   "name": "python2"
  },
  "language_info": {
   "codemirror_mode": {
    "name": "ipython",
    "version": 2
   },
   "file_extension": ".py",
   "mimetype": "text/x-python",
   "name": "python",
   "nbconvert_exporter": "python",
   "pygments_lexer": "ipython2",
   "version": "2.7.12"
  }
 },
 "nbformat": 4,
 "nbformat_minor": 2
}
