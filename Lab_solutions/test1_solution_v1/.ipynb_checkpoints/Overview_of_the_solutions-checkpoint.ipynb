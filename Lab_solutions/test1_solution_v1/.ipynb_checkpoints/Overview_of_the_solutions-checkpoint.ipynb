{
 "cells": [
  {
   "cell_type": "markdown",
   "metadata": {},
   "source": [
    "For this test, I used gradient boosting treees (GBT), LDA and SGDC methods on the server. My X is those derived parameters and Y is the label (signal [1] or background [2]). One thing, I do not understand is the weight, so it has not been taken into account.\n",
    "\n",
    "The outputted models are gbt.pkl, lda.pkl and sgdc.pkl, for GBT, LDA and SGDC,  respectively.\n",
    "\n",
    "The best outputted AMS are ~2.6, ~1.5, ~0.8 for GBT, LDA and SGDC, respectively. Apparently, GBT method outperformed another two methods. \n",
    "\n"
   ]
  },
  {
   "cell_type": "code",
   "execution_count": null,
   "metadata": {
    "collapsed": true
   },
   "outputs": [],
   "source": []
  }
 ],
 "metadata": {
  "kernelspec": {
   "display_name": "Python 2",
   "language": "python",
   "name": "python2"
  },
  "language_info": {
   "codemirror_mode": {
    "name": "ipython",
    "version": 2
   },
   "file_extension": ".py",
   "mimetype": "text/x-python",
   "name": "python",
   "nbconvert_exporter": "python",
   "pygments_lexer": "ipython2",
   "version": "2.7.12"
  }
 },
 "nbformat": 4,
 "nbformat_minor": 2
}
