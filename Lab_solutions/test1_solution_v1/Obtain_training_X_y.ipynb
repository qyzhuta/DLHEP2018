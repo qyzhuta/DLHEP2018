{
 "cells": [
  {
   "cell_type": "markdown",
   "metadata": {},
   "source": [
    "## Convert cvs file to hdf5 for good data"
   ]
  },
  {
   "cell_type": "code",
   "execution_count": 2,
   "metadata": {
    "collapsed": true
   },
   "outputs": [],
   "source": [
    "import pandas as pd\n",
    "\n",
    "fname='mytraining.csv'\n"
   ]
  },
  {
   "cell_type": "code",
   "execution_count": 3,
   "metadata": {
    "collapsed": true
   },
   "outputs": [],
   "source": [
    "titles=['EventId','DER_mass_MMC','DER_mass_transverse_met_lep','DER_mass_vis','DER_pt_h','DER_deltaeta_jet_jet','DER_mass_jet_jet','DER_prodeta_jet_jet','DER_deltar_tau_lep','DER_pt_tot','DER_sum_pt',\n",
    "        'DER_pt_ratio_lep_tau','DER_met_phi_centrality','DER_lep_eta_centrality','PRI_tau_pt','PRI_tau_eta','PRI_tau_phi','PRI_lep_pt','PRI_lep_eta','PRI_lep_phi','PRI_met','PRI_met_phi','PRI_met_sumet',\n",
    "        'PRI_jet_num','PRI_jet_leading_pt','PRI_jet_leading_eta','PRI_jet_leading_phi','PRI_jet_subleading_pt','PRI_jet_subleading_eta','PRI_jet_subleading_phi','PRI_jet_all_pt','Weight','Label']"
   ]
  },
  {
   "cell_type": "code",
   "execution_count": 4,
   "metadata": {
    "collapsed": true
   },
   "outputs": [],
   "source": [
    "def gen_training_data(fname,names):\n",
    "    \n",
    "    df=pd.read_csv(fname,header=None,names=names)\n",
    "    \n",
    "    # Map string labels to 0/1\n",
    "    df['Label'] = df['Label'].map({'b':0, 's':1})\n",
    "    \n",
    "    useful_inputs=['DER_mass_MMC','DER_mass_transverse_met_lep','DER_mass_vis',\n",
    "                   'DER_pt_h','DER_deltaeta_jet_jet','DER_mass_jet_jet','DER_prodeta_jet_jet',\n",
    "                   'DER_deltar_tau_lep','DER_pt_tot','DER_sum_pt',\n",
    "                   'DER_pt_ratio_lep_tau','DER_met_phi_centrality','DER_lep_eta_centrality',\n",
    "                   'Weight','Label']\n",
    "    \n",
    "    cols_new = df.columns.tolist()\n",
    "    cols_new = [c for c in useful_inputs]\n",
    "    \n",
    "    df_new=df[cols_new]\n",
    "    X_new = df_new[cols_new[:-2]].values\n",
    "    labels = df_new['Label'].values\n",
    "    weights = df_new['Weight'].values\n",
    "    \n",
    "    return df_new, X_new, labels, weights"
   ]
  },
  {
   "cell_type": "code",
   "execution_count": 5,
   "metadata": {
    "collapsed": true
   },
   "outputs": [],
   "source": [
    "df, X_new, labels, weights=gen_training_data(fname,titles)"
   ]
  },
  {
   "cell_type": "code",
   "execution_count": 6,
   "metadata": {},
   "outputs": [],
   "source": [
    "df.to_csv('X_y',encoding='utf-8', index=False)"
   ]
  },
  {
   "cell_type": "code",
   "execution_count": null,
   "metadata": {
    "collapsed": true
   },
   "outputs": [],
   "source": []
  }
 ],
 "metadata": {
  "kernelspec": {
   "display_name": "Python 2",
   "language": "python",
   "name": "python2"
  },
  "language_info": {
   "codemirror_mode": {
    "name": "ipython",
    "version": 2
   },
   "file_extension": ".py",
   "mimetype": "text/x-python",
   "name": "python",
   "nbconvert_exporter": "python",
   "pygments_lexer": "ipython2",
   "version": "2.7.12"
  }
 },
 "nbformat": 4,
 "nbformat_minor": 2
}
