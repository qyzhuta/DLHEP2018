{
 "cells": [
  {
   "cell_type": "markdown",
   "metadata": {},
   "source": [
    "## Lab 1- Python\n",
    "\n",
    "Let start with generating some fake random data. You can get a random number between 0 and 1 using the python random module as follow:"
   ]
  },
  {
   "cell_type": "code",
   "execution_count": 20,
   "metadata": {},
   "outputs": [
    {
     "name": "stdout",
     "output_type": "stream",
     "text": [
      "The Value of x is 0.563420993353\n"
     ]
    }
   ],
   "source": [
    "import random\n",
    "x=random.random()\n",
    "print \"The Value of x is\", x"
   ]
  },
  {
   "cell_type": "markdown",
   "metadata": {},
   "source": [
    "### Exercise 1.1\n",
    "Using random, write a function GenerateData(N, mymin, mymax), that returns a python list containing N random numbers between specified minimum and maximum value. Note that you may want to quickly work out on paper how to turn numbers between 0 and 1 to between other values. "
   ]
  },
  {
   "cell_type": "code",
   "execution_count": 4,
   "metadata": {},
   "outputs": [
    {
     "name": "stdout",
     "output_type": "stream",
     "text": [
      "Data Type: <type 'list'>\n",
      "Data Length: 1000\n",
      "Type of Data Contents: <type 'float'>\n",
      "Data Minimum: -9.99660537879\n",
      "Data Maximum: 9.99687070634\n"
     ]
    }
   ],
   "source": [
    "# Skeleton\n",
    "def GenerateData(N,mymin,mymax):\n",
    "    \n",
    "    import random\n",
    "    \n",
    "    out = []\n",
    "    ### BEGIN SOLUTION\n",
    "\n",
    "    # Fill in your solution here  \n",
    "    \n",
    "    for i in range(N):\n",
    "        \n",
    "        x=random.random()\n",
    "        \n",
    "        x=mymin+x*(mymax-mymin)\n",
    "           \n",
    "        out.append(x)\n",
    "    \n",
    "    \n",
    "    ### END SOLUTION\n",
    "    return out\n",
    "\n",
    "Data=GenerateData(1000,-10,10)\n",
    "print \"Data Type:\", type(Data)\n",
    "print \"Data Length:\", len(Data)\n",
    "if len(Data)>0: \n",
    "    print \"Type of Data Contents:\", type(Data[0])\n",
    "    print \"Data Minimum:\", min(Data)\n",
    "    print \"Data Maximum:\", max(Data)"
   ]
  },
  {
   "cell_type": "markdown",
   "metadata": {},
   "source": [
    "### Exercise 1.2\n",
    "\n",
    "Write a function that computes the mean of values in a list."
   ]
  },
  {
   "cell_type": "code",
   "execution_count": 22,
   "metadata": {},
   "outputs": [
    {
     "name": "stdout",
     "output_type": "stream",
     "text": [
      "Mean of Data: -0.172095330591\n"
     ]
    }
   ],
   "source": [
    "# Skeleton\n",
    "def mean(Data):\n",
    "    m=0\n",
    "    \n",
    "    ### BEGIN SOLUTION\n",
    "\n",
    "    # Fill in your solution here    \n",
    "    \n",
    "    m=sum(Data)/len(Data)\n",
    "    \n",
    "    ### END SOLUTION\n",
    "    \n",
    "    return m\n",
    "\n",
    "print \"Mean of Data:\", mean(Data)"
   ]
  },
  {
   "cell_type": "markdown",
   "metadata": {},
   "source": [
    "### Exercise 1.3\n",
    "\n",
    "Write a function the applies a booling function (that returns true/false) to every element in data, and return a list of indices of elements where the result was true. Use this function to find the indices of positive entries. "
   ]
  },
  {
   "cell_type": "code",
   "execution_count": 23,
   "metadata": {
    "collapsed": true
   },
   "outputs": [],
   "source": [
    "def where(mylist,myfunc):\n",
    "    out= []\n",
    "    \n",
    "    ### BEGIN SOLUTION\n",
    "\n",
    "    # Fill in your solution here \n",
    "    \n",
    "    for i,val in enumerate(mylist):\n",
    "        \n",
    "        if myfunc(val):\n",
    "            \n",
    "            out.append(i)\n",
    "    ### END SOLUTION\n",
    "    \n",
    "    return out"
   ]
  },
  {
   "cell_type": "code",
   "execution_count": 24,
   "metadata": {
    "collapsed": true
   },
   "outputs": [],
   "source": [
    "def find_positive(myval):\n",
    "    \n",
    "    if myval>0:\n",
    "        return True\n",
    "    else:\n",
    "        return False\n",
    "    \n",
    "\n",
    "positive_location=where(Data,find_positive)\n"
   ]
  },
  {
   "cell_type": "markdown",
   "metadata": {},
   "source": [
    "### Exercise 1.4\n",
    "\n",
    "The inrange(mymin,mymax) function below returns a function that tests if it's input is between the specified values. Use this function, in conjunction to your solution to 1.3, to demonstrate that your data is \"flat\". Hint: pick several sub-ranges and show that the number of data point divided by the size of the range is roughly constant. "
   ]
  },
  {
   "cell_type": "code",
   "execution_count": 27,
   "metadata": {},
   "outputs": [
    {
     "name": "stdout",
     "output_type": "stream",
     "text": [
      "True True False False False\n",
      "False False True True False\n",
      "Number of Entries passing F1: 496\n",
      "Number of Entries passing F2: 0\n"
     ]
    }
   ],
   "source": [
    "def inrange(mymin,mymax):\n",
    "    def testrange(x):\n",
    "        return x<mymax and x>=mymin\n",
    "    return testrange\n",
    "\n",
    "# Examples:\n",
    "F1=inrange(0,10)\n",
    "F2=inrange(10,20)\n",
    "\n",
    "print F1(0), F1(1), F1(10), F1(15), F1(20)\n",
    "print F2(0), F2(1), F2(10), F2(15), F2(20)\n",
    "\n",
    "print \"Number of Entries passing F1:\", len(where(Data,F1))\n",
    "print \"Number of Entries passing F2:\", len(where(Data,F2))"
   ]
  },
  {
   "cell_type": "markdown",
   "metadata": {},
   "source": [
    "### Exercise 1.5\n",
    "\n",
    "Repeat Exercise 1.5 using the built in python functions sum and map instead of your solution to 1.3. "
   ]
  },
  {
   "cell_type": "code",
   "execution_count": 34,
   "metadata": {},
   "outputs": [
    {
     "name": "stdout",
     "output_type": "stream",
     "text": [
      "-10 -9 Number of Entries passing F1: 54\n",
      "-9 -8 Number of Entries passing F1: 45\n",
      "-8 -7 Number of Entries passing F1: 57\n",
      "-7 -6 Number of Entries passing F1: 55\n",
      "-6 -5 Number of Entries passing F1: 44\n",
      "-5 -4 Number of Entries passing F1: 54\n",
      "-4 -3 Number of Entries passing F1: 53\n",
      "-3 -2 Number of Entries passing F1: 59\n",
      "-2 -1 Number of Entries passing F1: 44\n",
      "-1 0 Number of Entries passing F1: 39\n",
      "0 1 Number of Entries passing F1: 53\n",
      "1 2 Number of Entries passing F1: 47\n",
      "2 3 Number of Entries passing F1: 51\n",
      "3 4 Number of Entries passing F1: 52\n",
      "4 5 Number of Entries passing F1: 55\n",
      "5 6 Number of Entries passing F1: 52\n",
      "6 7 Number of Entries passing F1: 40\n",
      "7 8 Number of Entries passing F1: 49\n",
      "8 9 Number of Entries passing F1: 57\n",
      "9 10 Number of Entries passing F1: 40\n"
     ]
    }
   ],
   "source": [
    "### BEGIN SOLUTION\n",
    "\n",
    "    # Fill in your solution here     \n",
    "\n",
    "for i in range(-10,10):\n",
    "    st=i;ed=i+1\n",
    "    F1=inrange(i,i+1)\n",
    "    print i,i+1,\"Number of Entries passing F1:\",sum(map(F1,Data))\n",
    "    \n",
    "### END SOLUTION"
   ]
  },
  {
   "cell_type": "markdown",
   "metadata": {},
   "source": [
    "### Exercise 1.6\n",
    "\n",
    "Write a new function called GenerateDataFromFunction(N,mymin,mymax,myfunc), that instead of generating a flat distribution, generates a distribution with functional form coded in myfunc. Note that myfunc will always be > 0.  \n",
    "\n",
    "Use your function to generate 1000 numbers that are Gaussian distributed, using the Gaussian function below. Confirm the mean of the data is close to mean you specify when building the Gaussian. \n",
    "\n",
    "Hint: A simple, but slow, solution is to a draw random number test_x within the specified range and another number p between the min and max of the function (which you will have to determine). If p<=function(test_x), then place test_x on the output. If not, repeat the process, drawing two new numbers. Repeat until you have the specified number of generated numbers, N. For this problem, it's OK to determine the min and max by numerically sampling the function.  \n",
    "\n"
   ]
  },
  {
   "cell_type": "code",
   "execution_count": 5,
   "metadata": {
    "collapsed": true
   },
   "outputs": [],
   "source": [
    "def GenerateDataFromFunction(N,mymin,mymax,myfunc):\n",
    "    out = []\n",
    "    ### BEGIN SOLUTION\n",
    "\n",
    "    # Fill in your solution here    \n",
    "    \n",
    "    data=GenerateData(N,mymin,mymax)\n",
    "    \n",
    "    for val in data:\n",
    "        out.append(myfunc(val))\n",
    "    \n",
    "    ### END SOLUTION\n",
    "    \n",
    "    return out"
   ]
  },
  {
   "cell_type": "code",
   "execution_count": 7,
   "metadata": {},
   "outputs": [],
   "source": [
    "import math\n",
    "\n",
    "def gaussian(mean, sigma):\n",
    "    def f(x):\n",
    "        return math.exp(((x-mean)**2)/(2*sigma**2))/math.sqrt(math.pi*sigma)\n",
    "    return f\n",
    "\n",
    "# Example Instantiation\n",
    "g1=gaussian(0,1)\n",
    "g2=gaussian(10,3)\n",
    "\n",
    "### BEGIN SOLUTION\n",
    "\n",
    "# Fill in your solution here  \n",
    "\n",
    "list1=GenerateDataFromFunction(1000,-2,-1,g1)\n",
    "list2=GenerateDataFromFunction(1000,0,4,g2)\n",
    "    \n",
    "### END SOLUTION\n"
   ]
  },
  {
   "cell_type": "code",
   "execution_count": 37,
   "metadata": {},
   "outputs": [
    {
     "data": {
      "text/plain": [
       "0.5641895835477563"
      ]
     },
     "execution_count": 37,
     "metadata": {},
     "output_type": "execute_result"
    }
   ],
   "source": []
  },
  {
   "cell_type": "code",
   "execution_count": null,
   "metadata": {
    "collapsed": true
   },
   "outputs": [],
   "source": []
  }
 ],
 "metadata": {
  "kernelspec": {
   "display_name": "Python 2",
   "language": "python",
   "name": "python2"
  },
  "language_info": {
   "codemirror_mode": {
    "name": "ipython",
    "version": 2
   },
   "file_extension": ".py",
   "mimetype": "text/x-python",
   "name": "python",
   "nbconvert_exporter": "python",
   "pygments_lexer": "ipython2",
   "version": "2.7.12"
  }
 },
 "nbformat": 4,
 "nbformat_minor": 2
}
